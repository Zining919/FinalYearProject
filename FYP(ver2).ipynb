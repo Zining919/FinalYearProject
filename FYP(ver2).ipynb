{
 "cells": [
  {
   "cell_type": "code",
   "execution_count": 1,
   "metadata": {
    "id": "Eeu7M8Xtfuep"
   },
   "outputs": [],
   "source": [
    "import tensorflow as tf\n",
    "from tensorflow import keras\n",
    "from tensorflow.keras import layers, models, metrics\n",
    "import pandas as pd\n",
    "import numpy as np\n",
    "import matplotlib.pyplot as plt\n",
    "import os\n",
    "from PIL import Image"
   ]
  },
  {
   "cell_type": "code",
   "execution_count": 2,
   "metadata": {
    "colab": {
     "base_uri": "https://localhost:8080/"
    },
    "id": "uGldWnwu4imF",
    "outputId": "8140ca69-c736-48a0-ba05-532019dda645"
   },
   "outputs": [
    {
     "name": "stdout",
     "output_type": "stream",
     "text": [
      "Found 5712 files belonging to 4 classes.\n",
      "Found 1311 files belonging to 4 classes.\n"
     ]
    }
   ],
   "source": [
    "train_set = keras.preprocessing.image_dataset_from_directory(\n",
    "   \"C:/Users/user/Downloads/archive/Training\",\n",
    "    labels='inferred',  # Automatically infer labels from subdirectory names\n",
    "    label_mode='int',\n",
    "    interpolation='nearest',\n",
    "    batch_size=32,\n",
    "    image_size=(256,256)\n",
    ")\n",
    "\n",
    "test_set = keras.preprocessing.image_dataset_from_directory(\n",
    "    \"C:/Users/user/Downloads/archive/Testing\",\n",
    "    labels='inferred',  # Automatically infer labels from subdirectory names\n",
    "    label_mode='int',\n",
    "    interpolation='nearest',\n",
    "    batch_size=32,\n",
    "    image_size=(256,256)\n",
    ")"
   ]
  },
  {
   "cell_type": "code",
   "execution_count": 3,
   "metadata": {
    "colab": {
     "base_uri": "https://localhost:8080/"
    },
    "id": "QcRcawWb47ml",
    "outputId": "3d2d44ea-15dc-4a08-aeb5-122dbd6157bd"
   },
   "outputs": [
    {
     "name": "stdout",
     "output_type": "stream",
     "text": [
      "['glioma', 'meningioma', 'notumor', 'pituitary']\n"
     ]
    }
   ],
   "source": [
    "class_names = train_set.class_names\n",
    "print(class_names)"
   ]
  },
  {
   "cell_type": "code",
   "execution_count": 4,
   "metadata": {
    "colab": {
     "base_uri": "https://localhost:8080/"
    },
    "id": "7DEvkuKqUlB9",
    "outputId": "a3fda1ce-efc2-47cc-9803-3521cf981897"
   },
   "outputs": [
    {
     "name": "stdout",
     "output_type": "stream",
     "text": [
      "Number of training samples: 5712\n",
      "Number of testing samples: 1311\n"
     ]
    }
   ],
   "source": [
    "# prompt: get the number of samples in test and train set\n",
    "\n",
    "num_train_samples = 0\n",
    "for batch in train_set:\n",
    "    num_train_samples += batch[0].shape[0]\n",
    "\n",
    "num_test_samples = 0\n",
    "for batch in test_set:\n",
    "    num_test_samples += batch[0].shape[0]\n",
    "\n",
    "print(\"Number of training samples:\", num_train_samples)\n",
    "print(\"Number of testing samples:\", num_test_samples)"
   ]
  },
  {
   "cell_type": "code",
   "execution_count": 5,
   "metadata": {
    "colab": {
     "base_uri": "https://localhost:8080/"
    },
    "id": "hIoOpvCGHsNz",
    "outputId": "7f5b3c88-434f-4927-d400-99ea55455802"
   },
   "outputs": [
    {
     "name": "stdout",
     "output_type": "stream",
     "text": [
      "<_BatchDataset element_spec=(TensorSpec(shape=(None, 256, 256, 3), dtype=tf.uint8, name=None), TensorSpec(shape=(None,), dtype=tf.int32, name=None))>\n"
     ]
    },
    {
     "data": {
      "text/plain": [
       "<_BatchDataset element_spec=(TensorSpec(shape=(None, 256, 256, 3), dtype=tf.uint8, name=None), TensorSpec(shape=(None,), dtype=tf.int32, name=None))>"
      ]
     },
     "execution_count": 5,
     "metadata": {},
     "output_type": "execute_result"
    }
   ],
   "source": [
    "# prompt: view the info of the train_set and test_set\n",
    "\n",
    "print(train_set)\n",
    "test_set"
   ]
  },
  {
   "cell_type": "code",
   "execution_count": 6,
   "metadata": {
    "id": "50eSdNvm5IyN"
   },
   "outputs": [],
   "source": [
    "# plt.figure(figsize=(12,12))\n",
    "# for img, label in train_set.take(1):\n",
    "#     for i in range(25):\n",
    "#         plt.subplot(5,5,i+1)\n",
    "#         plt.imshow(img[i])\n",
    "#         plt.title(class_names[label[i]])\n",
    "#         plt.axis('off')"
   ]
  },
  {
   "cell_type": "code",
   "execution_count": 7,
   "metadata": {
    "colab": {
     "base_uri": "https://localhost:8080/"
    },
    "id": "byvffSm48lnj",
    "outputId": "43e0f850-b458-49e9-a438-e23e724b8aaa"
   },
   "outputs": [
    {
     "name": "stdout",
     "output_type": "stream",
     "text": [
      "Class: glioma, Number of images: 1321\n",
      "Class: meningioma, Number of images: 1339\n",
      "Class: notumor, Number of images: 1595\n",
      "Class: pituitary, Number of images: 1457\n"
     ]
    }
   ],
   "source": [
    "# prompt: get the number of images based on the class names\n",
    "\n",
    "import os\n",
    "\n",
    "image_counts = {}\n",
    "for class_name in class_names:\n",
    "  class_dir = os.path.join(\"C:/Users/user/Downloads/archive/Training\", class_name)\n",
    "  image_count = len(os.listdir(class_dir))\n",
    "  image_counts[class_name] = image_count\n",
    "\n",
    "for class_name, count in image_counts.items():\n",
    "  print(f\"Class: {class_name}, Number of images: {count}\")"
   ]
  },
  {
   "cell_type": "code",
   "execution_count": 8,
   "metadata": {
    "colab": {
     "base_uri": "https://localhost:8080/"
    },
    "id": "08neNvr25z99",
    "outputId": "93c94fed-3883-4df8-fa40-c1b21aa58933"
   },
   "outputs": [
    {
     "name": "stdout",
     "output_type": "stream",
     "text": [
      "Class: glioma, Number of images: 300\n",
      "Class: meningioma, Number of images: 306\n",
      "Class: notumor, Number of images: 405\n",
      "Class: pituitary, Number of images: 300\n"
     ]
    }
   ],
   "source": [
    "image_counts = {}\n",
    "for class_name in class_names:\n",
    "  class_dir = os.path.join(\"C:/Users/user/Downloads/archive/Testing\", class_name)\n",
    "  image_count = len(os.listdir(class_dir))\n",
    "  image_counts[class_name] = image_count\n",
    "\n",
    "for class_name, count in image_counts.items():\n",
    "  print(f\"Class: {class_name}, Number of images: {count}\")"
   ]
  },
  {
   "cell_type": "code",
   "execution_count": 9,
   "metadata": {
    "colab": {
     "base_uri": "https://localhost:8080/"
    },
    "id": "-aJHRPsJh0s_",
    "outputId": "3c36198c-89d3-420b-b266-453beefc1e65"
   },
   "outputs": [
    {
     "name": "stdout",
     "output_type": "stream",
     "text": [
      "Image batch shape: (32, 256, 256, 3)\n",
      "Label batch shape: (32,)\n",
      "Total number of Image and labels: (7023, 256, 256, 3) (7023,)\n"
     ]
    }
   ],
   "source": [
    "# prompt: combine the train and test test into a single varible to store the 7000+ image data with its class\n",
    "\n",
    "import tensorflow as tf\n",
    "\n",
    "# Combine the datasets\n",
    "combined_dataset = train_set.concatenate(test_set)\n",
    "\n",
    "# You can now iterate through the combined dataset\n",
    "# Example: Print the shapes of the first batch\n",
    "for image_batch, label_batch in combined_dataset.take(1):\n",
    "  print(\"Image batch shape:\", image_batch.shape)\n",
    "  print(\"Label batch shape:\", label_batch.shape)\n",
    "\n",
    "#Further processing or storage of combined_dataset\n",
    "#Example: Convert to NumPy arrays for easier manipulation if needed\n",
    "images = []\n",
    "labels = []\n",
    "\n",
    "for image_batch, label_batch in combined_dataset:\n",
    "    images.extend(image_batch.numpy())\n",
    "    labels.extend(label_batch.numpy())\n",
    "\n",
    "#Now images and labels are NumPy arrays containing all the data.\n",
    "images = np.array(images)\n",
    "labels = np.array(labels)\n",
    "print(\"Total number of Image and labels:\",images.shape, labels.shape)"
   ]
  },
  {
   "cell_type": "code",
   "execution_count": 10,
   "metadata": {
    "colab": {
     "base_uri": "https://localhost:8080/"
    },
    "id": "nXwnjXsnnNb2",
    "outputId": "1eaefdf7-7483-404e-ab0b-427063c1bb68"
   },
   "outputs": [
    {
     "name": "stdout",
     "output_type": "stream",
     "text": [
      "Labels and their corresponding numerical values:\n",
      "0: glioma\n",
      "1: meningioma\n",
      "2: notumor\n",
      "3: pituitary\n"
     ]
    }
   ],
   "source": [
    "print(\"Labels and their corresponding numerical values:\")\n",
    "for i, class_name in enumerate(class_names):\n",
    "  print(f\"{i}: {class_name}\")"
   ]
  },
  {
   "cell_type": "code",
   "execution_count": 11,
   "metadata": {
    "id": "-MSgmoREpoYQ"
   },
   "outputs": [],
   "source": [
    "# prompt: store the images and labels variable into a single variable called data\n",
    "\n",
    "data = (images, labels)"
   ]
  },
  {
   "cell_type": "code",
   "execution_count": 12,
   "metadata": {
    "colab": {
     "base_uri": "https://localhost:8080/"
    },
    "id": "Qd0K6SaBrZyR",
    "outputId": "a3816d58-636b-43d6-8005-c2b1b6025a04"
   },
   "outputs": [
    {
     "name": "stdout",
     "output_type": "stream",
     "text": [
      "<class 'pandas.core.frame.DataFrame'>\n",
      "RangeIndex: 7023 entries, 0 to 7022\n",
      "Data columns (total 2 columns):\n",
      " #   Column  Non-Null Count  Dtype \n",
      "---  ------  --------------  ----- \n",
      " 0   image   7023 non-null   object\n",
      " 1   label   7023 non-null   int32 \n",
      "dtypes: int32(1), object(1)\n",
      "memory usage: 82.4+ KB\n",
      "None\n"
     ]
    }
   ],
   "source": [
    "images, labels = data\n",
    "\n",
    "# Create a DataFrame\n",
    "df = pd.DataFrame({'image': list(images), 'label': list(labels)})\n",
    "\n",
    "# Print the DataFrame (or perform other operations)\n",
    "print(df.info()) # Print the first few rows"
   ]
  },
  {
   "cell_type": "code",
   "execution_count": 13,
   "metadata": {
    "colab": {
     "base_uri": "https://localhost:8080/",
     "height": 428
    },
    "id": "EZZykrwwkQ-o",
    "outputId": "9a041b4b-5196-4d3a-c5ad-35fbfe7c5fdd"
   },
   "outputs": [
    {
     "data": {
      "image/png": "[encoded data removed]",
      "text/plain": [
       "<Figure size 640x480 with 1 Axes>"
      ]
     },
     "metadata": {},
     "output_type": "display_data"
    }
   ],
   "source": [
    "#  view the image that store in the data variable\n",
    "plt.imshow(data[0][0])  # Access the first image (index 0)\n",
    "plt.title(f\"Label: {data[1][0]}\") #Display the label of the first image\n",
    "plt.axis('off')\n",
    "plt.show()"
   ]
  },
  {
   "cell_type": "code",
   "execution_count": 14,
   "metadata": {},
   "outputs": [
    {
     "name": "stdout",
     "output_type": "stream",
     "text": [
      "(256, 256, 3)\n",
      "4\n"
     ]
    }
   ],
   "source": [
    "input_shape = images.shape[1:]  # Get the shape of your images\n",
    "num_classes = len(np.unique(labels))  # Get the number of unique classes\n",
    "\n",
    "print(input_shape)\n",
    "print(num_classes)"
   ]
  },
  {
   "cell_type": "markdown",
   "metadata": {},
   "source": [
    "## Simple CNN"
   ]
  },
  {
   "cell_type": "code",
   "execution_count": 15,
   "metadata": {},
   "outputs": [
    {
     "name": "stdout",
     "output_type": "stream",
     "text": [
      "Epoch 1/10\n",
      " 20/179 [==>...........................] - ETA: 3:41 - loss: 186.4034 - accuracy: 0.3734"
     ]
    }
   ],
   "source": [
    "# prompt:  use simple cnn to train the model and evaluate the result\n",
    "\n",
    "import tensorflow as tf\n",
    "from tensorflow import keras\n",
    "from tensorflow.keras import layers, models, metrics\n",
    "import matplotlib.pyplot as plt\n",
    "\n",
    "# Define the CNN model\n",
    "model = models.Sequential([\n",
    "    layers.Conv2D(32, (3, 3), activation='relu', input_shape=(256, 256, 3)),\n",
    "    layers.MaxPooling2D((2, 2)),\n",
    "    layers.Conv2D(64, (3, 3), activation='relu'),\n",
    "    layers.MaxPooling2D((2, 2)),\n",
    "    layers.Conv2D(128, (3, 3), activation='relu'),\n",
    "    layers.MaxPooling2D((2, 2)),\n",
    "    layers.Flatten(),\n",
    "    layers.Dense(128, activation='relu'),\n",
    "    layers.Dense(len(class_names), activation='softmax') # Output layer with number of classes\n",
    "])\n",
    "\n",
    "# Compile the model\n",
    "model.compile(optimizer='adam',\n",
    "              loss='sparse_categorical_crossentropy', # Use sparse categorical crossentropy for integer labels\n",
    "              metrics=['accuracy'])\n",
    "\n",
    "# Train the model\n",
    "history = model.fit(train_set, epochs=10, validation_data=test_set) # Adjust epochs as needed\n",
    "\n",
    "\n",
    "# Evaluate the model\n",
    "loss, accuracy = model.evaluate(test_set)\n",
    "print(f\"Test Loss: {loss}\")\n",
    "print(f\"Test Accuracy: {accuracy}\")\n",
    "\n",
    "# Plot training history (optional)\n",
    "plt.plot(history.history['accuracy'], label='accuracy')\n",
    "plt.plot(history.history['val_accuracy'], label = 'val_accuracy')\n",
    "plt.xlabel('Epoch')\n",
    "plt.ylabel('Accuracy')\n",
    "plt.ylim([0, 1])\n",
    "plt.legend(loc='lower right')\n",
    "plt.show()\n",
    "\n",
    "\n",
    "plt.plot(history.history['loss'], label='loss')\n",
    "plt.plot(history.history['val_loss'], label = 'val_loss')\n",
    "plt.xlabel('Epoch')\n",
    "plt.ylabel('Loss')\n",
    "plt.legend(loc='lower right')\n",
    "plt.show()"
   ]
  },
  {
   "cell_type": "code",
   "execution_count": null,
   "metadata": {},
   "outputs": [],
   "source": [
    "model.summary()"
   ]
  },
  {
   "cell_type": "markdown",
   "metadata": {
    "jp-MarkdownHeadingCollapsed": true
   },
   "source": [
    "## Simple CNN + GoogleNet"
   ]
  },
  {
   "cell_type": "code",
   "execution_count": null,
   "metadata": {},
   "outputs": [],
   "source": [
    "# prompt: use googlenet to train the model and evaluate the result\n",
    "\n",
    "import tensorflow as tf\n",
    "from tensorflow.keras.applications import InceptionV3\n",
    "from tensorflow.keras import layers, models, metrics\n",
    "import matplotlib.pyplot as plt\n",
    "\n",
    "# ... (Your existing code for data loading and preprocessing) ...\n",
    "\n",
    "# Load pre-trained InceptionV3 model (excluding the top classification layer)\n",
    "base_model = InceptionV3(weights='imagenet', include_top=False, input_shape=(256, 256, 3))\n",
    "\n",
    "# Freeze the base model layers\n",
    "base_model.trainable = False\n",
    "\n",
    "# Add custom classification head\n",
    "x = base_model.output\n",
    "x = layers.GlobalAveragePooling2D()(x)  # Use GlobalAveragePooling2D\n",
    "x = layers.Dense(1024, activation='relu')(x)\n",
    "predictions = layers.Dense(len(class_names), activation='softmax')(x)\n",
    "\n",
    "# Create the final model\n",
    "model3 = models.Model(inputs=base_model.input, outputs=predictions)\n",
    "\n",
    "# Compile the model\n",
    "model3.compile(optimizer='adam',\n",
    "              loss='sparse_categorical_crossentropy',\n",
    "              metrics=['accuracy'])\n",
    "\n",
    "model3.summary()"
   ]
  },
  {
   "cell_type": "code",
   "execution_count": null,
   "metadata": {},
   "outputs": [],
   "source": [
    "# Train the model\n",
    "history = model3.fit(train_set, epochs=10, validation_data=test_set)"
   ]
  },
  {
   "cell_type": "code",
   "execution_count": null,
   "metadata": {},
   "outputs": [],
   "source": [
    "# Evaluate the model\n",
    "loss, accuracy = model3.evaluate(test_set)\n",
    "print(f\"Test Loss: {loss}\")\n",
    "print(f\"Test Accuracy: {accuracy}\")\n",
    "\n",
    "# Plot training history (optional)\n",
    "plt.plot(history.history['accuracy'], label='accuracy')\n",
    "plt.plot(history.history['val_accuracy'], label='val_accuracy')\n",
    "plt.xlabel('Epoch')\n",
    "plt.ylabel('Accuracy')\n",
    "plt.ylim([0, 1])\n",
    "plt.legend(loc='lower right')\n",
    "plt.show()\n",
    "\n",
    "plt.plot(history.history['loss'], label='loss')\n",
    "plt.plot(history.history['val_loss'], label='val_loss')\n",
    "plt.xlabel('Epoch')\n",
    "plt.ylabel('Loss')\n",
    "plt.legend(loc='lower right')\n",
    "plt.show()"
   ]
  },
  {
   "cell_type": "markdown",
   "metadata": {},
   "source": [
    "## Multiscale CNN"
   ]
  },
  {
   "cell_type": "code",
   "execution_count": 18,
   "metadata": {},
   "outputs": [
    {
     "name": "stdout",
     "output_type": "stream",
     "text": [
      "Epoch 1/10\n",
      "352/352 [==============================] - 525s 1s/step - loss: 36.5224 - accuracy: 0.8047 - val_loss: 0.4799 - val_accuracy: 0.8477\n",
      "Pausing for 30 seconds before next epoch...\n",
      "Epoch 2/10\n",
      "352/352 [==============================] - 508s 1s/step - loss: 0.3555 - accuracy: 0.8959 - val_loss: 0.4893 - val_accuracy: 0.8377\n",
      "Pausing for 30 seconds before next epoch...\n",
      "Epoch 3/10\n",
      "352/352 [==============================] - 508s 1s/step - loss: 0.2499 - accuracy: 0.9194 - val_loss: 0.3216 - val_accuracy: 0.8961\n",
      "Pausing for 30 seconds before next epoch...\n",
      "Epoch 4/10\n",
      "352/352 [==============================] - 509s 1s/step - loss: 0.1539 - accuracy: 0.9530 - val_loss: 0.3410 - val_accuracy: 0.8940\n",
      "Pausing for 30 seconds before next epoch...\n",
      "Epoch 5/10\n",
      "352/352 [==============================] - 593s 2s/step - loss: 0.0910 - accuracy: 0.9706 - val_loss: 0.4012 - val_accuracy: 0.9132\n",
      "Pausing for 30 seconds before next epoch...\n",
      "Epoch 6/10\n",
      "352/352 [==============================] - 550s 2s/step - loss: 0.0853 - accuracy: 0.9767 - val_loss: 0.5176 - val_accuracy: 0.9139\n",
      "Pausing for 30 seconds before next epoch...\n",
      "Epoch 7/10\n",
      "352/352 [==============================] - 545s 2s/step - loss: 0.0694 - accuracy: 0.9818 - val_loss: 0.3325 - val_accuracy: 0.9253\n",
      "Pausing for 30 seconds before next epoch...\n",
      "Epoch 8/10\n",
      "352/352 [==============================] - 549s 2s/step - loss: 0.0775 - accuracy: 0.9806 - val_loss: 0.4725 - val_accuracy: 0.9203\n",
      "Pausing for 30 seconds before next epoch...\n",
      "Epoch 9/10\n",
      "352/352 [==============================] - 544s 2s/step - loss: 0.0601 - accuracy: 0.9847 - val_loss: 0.4105 - val_accuracy: 0.9210\n",
      "Pausing for 30 seconds before next epoch...\n",
      "Epoch 10/10\n",
      "352/352 [==============================] - 540s 2s/step - loss: 0.0547 - accuracy: 0.9838 - val_loss: 0.5527 - val_accuracy: 0.9231\n",
      "Pausing for 30 seconds before next epoch...\n",
      "41/41 [==============================] - 31s 737ms/step - loss: 0.5158 - accuracy: 0.9207\n",
      "Test Loss: 0.5158\n",
      "Test Accuracy: 0.9207\n"
     ]
    }
   ],
   "source": [
    "import tensorflow as tf\n",
    "from tensorflow import keras\n",
    "from tensorflow.keras import layers, models, metrics\n",
    "import numpy as np\n",
    "import time\n",
    "from tensorflow.keras.callbacks import EarlyStopping\n",
    "\n",
    "# Define the multi-scale CNN model\n",
    "def create_multiscale_cnn(input_shape, num_classes):\n",
    "    input_tensor = keras.Input(shape=input_shape)\n",
    "\n",
    "    # Define multiple convolutional branches with different kernel sizes\n",
    "    conv1 = layers.Conv2D(32, (3, 3), activation='relu', padding='same')(input_tensor)\n",
    "    conv1 = layers.MaxPooling2D((2, 2))(conv1)\n",
    "\n",
    "    conv2 = layers.Conv2D(32, (5, 5), activation='relu', padding='same')(input_tensor)\n",
    "    conv2 = layers.MaxPooling2D((2, 2))(conv2)\n",
    "\n",
    "    conv3 = layers.Conv2D(32, (7, 7), activation='relu', padding='same')(input_tensor)\n",
    "    conv3 = layers.MaxPooling2D((2, 2))(conv3)\n",
    "\n",
    "    # Concatenate the outputs ofc  f the different branches\n",
    "    merged = layers.concatenate([conv1, conv2, conv3])\n",
    "\n",
    "    # Add further convolutional and pooling layers\n",
    "    merged = layers.Conv2D(64, (3, 3), activation='relu', padding='same')(merged)\n",
    "    merged = layers.MaxPooling2D((2, 2))(merged)\n",
    "\n",
    "    merged = layers.Flatten()(merged)\n",
    "    merged = layers.Dense(128, activation='relu')(merged)\n",
    "    output_tensor = layers.Dense(num_classes, activation='softmax')(merged)\n",
    "\n",
    "    model4 = models.Model(inputs=input_tensor, outputs=output_tensor)\n",
    "    return model4\n",
    "\n",
    "# Assuming 'images' and 'labels' are your NumPy arrays\n",
    "input_shape = images.shape[1:]  # Get the shape of your images\n",
    "num_classes = len(np.unique(labels))  # Get the number of unique classes\n",
    "\n",
    "# Create the model\n",
    "model4 = create_multiscale_cnn(input_shape, num_classes)\n",
    "\n",
    "# Compile the model\n",
    "model4.compile(optimizer='adam',\n",
    "              loss='sparse_categorical_crossentropy',  # Use sparse_categorical_crossentropy for integer labels\n",
    "              metrics=['accuracy'])\n",
    "\n",
    "# Early stopping callback\n",
    "early_stopping = EarlyStopping(monitor='val_loss',  # Monitor validation loss\n",
    "                               patience=3,         # Stop after 3 epochs with no improvement\n",
    "                               restore_best_weights=True,  # Restore the best weights when stopping\n",
    "                               verbose=1)\n",
    "\n",
    "# Set the break duration (in seconds)\n",
    "pause_duration = 30  # 10 seconds break before each epoch\n",
    "\n",
    "# Custom training loop with a pause before each epoch\n",
    "epochs = 10  # Number of epochs\n",
    "\n",
    "for epoch in range(epochs):\n",
    "    print(f\"Epoch {epoch + 1}/{epochs}\")\n",
    "\n",
    "    # Train for 1 epoch with the EarlyStopping callback\n",
    "    history = model4.fit(images, labels, batch_size=16, validation_split=0.2, epochs=1, callbacks=[early_stopping])\n",
    "\n",
    "    # Pause before the next epoch\n",
    "    print(f\"Pausing for {pause_duration} seconds before next epoch...\")\n",
    "    time.sleep(pause_duration)  # Pause for the specified duration\n",
    "\n",
    "# Evaluate the model\n",
    "loss, accuracy = model4.evaluate(test_set)\n",
    "print(f\"Test Loss: {loss:.4f}\")\n",
    "print(f\"Test Accuracy: {accuracy:.4f}\")"
   ]
  },
  {
   "cell_type": "markdown",
   "metadata": {
    "jp-MarkdownHeadingCollapsed": true
   },
   "source": [
    "## MS-CNN + GoogLeNet"
   ]
  },
  {
   "cell_type": "code",
   "execution_count": 29,
   "metadata": {},
   "outputs": [
    {
     "ename": "ValueError",
     "evalue": "The name \"mixed0\" is used 3 times in the model. All operation names should be unique.",
     "output_type": "error",
     "traceback": [
      "\u001b[1;31m---------------------------------------------------------------------------\u001b[0m",
      "\u001b[1;31mValueError\u001b[0m                                Traceback (most recent call last)",
      "Cell \u001b[1;32mIn[29], line 33\u001b[0m\n\u001b[0;32m     30\u001b[0m predictions \u001b[38;5;241m=\u001b[39m Dense(\u001b[38;5;28mlen\u001b[39m(class_names), activation\u001b[38;5;241m=\u001b[39m\u001b[38;5;124m'\u001b[39m\u001b[38;5;124msoftmax\u001b[39m\u001b[38;5;124m'\u001b[39m)(merged)\n\u001b[0;32m     32\u001b[0m \u001b[38;5;66;03m# Create the multi-scale model\u001b[39;00m\n\u001b[1;32m---> 33\u001b[0m multi_scale_model \u001b[38;5;241m=\u001b[39m Model(inputs\u001b[38;5;241m=\u001b[39minputs, outputs\u001b[38;5;241m=\u001b[39mpredictions)\n\u001b[0;32m     35\u001b[0m \u001b[38;5;66;03m# Compile the model\u001b[39;00m\n\u001b[0;32m     36\u001b[0m multi_scale_model\u001b[38;5;241m.\u001b[39mcompile(optimizer\u001b[38;5;241m=\u001b[39mAdam(learning_rate\u001b[38;5;241m=\u001b[39m\u001b[38;5;241m0.0001\u001b[39m), \n\u001b[0;32m     37\u001b[0m                           loss\u001b[38;5;241m=\u001b[39m\u001b[38;5;124m'\u001b[39m\u001b[38;5;124msparse_categorical_crossentropy\u001b[39m\u001b[38;5;124m'\u001b[39m,\n\u001b[0;32m     38\u001b[0m                           metrics\u001b[38;5;241m=\u001b[39m[\u001b[38;5;124m'\u001b[39m\u001b[38;5;124maccuracy\u001b[39m\u001b[38;5;124m'\u001b[39m])\n",
      "File \u001b[1;32m~\\anaconda3\\Lib\\site-packages\\keras\\src\\utils\\tracking.py:26\u001b[0m, in \u001b[0;36mno_automatic_dependency_tracking.<locals>.wrapper\u001b[1;34m(*args, **kwargs)\u001b[0m\n\u001b[0;32m     23\u001b[0m \u001b[38;5;129m@wraps\u001b[39m(fn)\n\u001b[0;32m     24\u001b[0m \u001b[38;5;28;01mdef\u001b[39;00m \u001b[38;5;21mwrapper\u001b[39m(\u001b[38;5;241m*\u001b[39margs, \u001b[38;5;241m*\u001b[39m\u001b[38;5;241m*\u001b[39mkwargs):\n\u001b[0;32m     25\u001b[0m     \u001b[38;5;28;01mwith\u001b[39;00m DotNotTrackScope():\n\u001b[1;32m---> 26\u001b[0m         \u001b[38;5;28;01mreturn\u001b[39;00m fn(\u001b[38;5;241m*\u001b[39margs, \u001b[38;5;241m*\u001b[39m\u001b[38;5;241m*\u001b[39mkwargs)\n",
      "File \u001b[1;32m~\\anaconda3\\Lib\\site-packages\\keras\\src\\models\\functional.py:135\u001b[0m, in \u001b[0;36mFunctional.__init__\u001b[1;34m(self, inputs, outputs, name, **kwargs)\u001b[0m\n\u001b[0;32m    132\u001b[0m \u001b[38;5;28;01mif\u001b[39;00m \u001b[38;5;129;01mnot\u001b[39;00m \u001b[38;5;28mall\u001b[39m(is_input_keras_tensor(t) \u001b[38;5;28;01mfor\u001b[39;00m t \u001b[38;5;129;01min\u001b[39;00m flat_inputs):\n\u001b[0;32m    133\u001b[0m     inputs, outputs \u001b[38;5;241m=\u001b[39m clone_graph_nodes(inputs, outputs)\n\u001b[1;32m--> 135\u001b[0m Function\u001b[38;5;241m.\u001b[39m\u001b[38;5;21m__init__\u001b[39m(\u001b[38;5;28mself\u001b[39m, inputs, outputs, name\u001b[38;5;241m=\u001b[39mname, \u001b[38;5;241m*\u001b[39m\u001b[38;5;241m*\u001b[39mkwargs)\n\u001b[0;32m    137\u001b[0m \u001b[38;5;28;01mif\u001b[39;00m trainable \u001b[38;5;129;01mis\u001b[39;00m \u001b[38;5;129;01mnot\u001b[39;00m \u001b[38;5;28;01mNone\u001b[39;00m:\n\u001b[0;32m    138\u001b[0m     \u001b[38;5;28mself\u001b[39m\u001b[38;5;241m.\u001b[39mtrainable \u001b[38;5;241m=\u001b[39m trainable\n",
      "File \u001b[1;32m~\\anaconda3\\Lib\\site-packages\\keras\\src\\ops\\function.py:77\u001b[0m, in \u001b[0;36mFunction.__init__\u001b[1;34m(self, inputs, outputs, name)\u001b[0m\n\u001b[0;32m     74\u001b[0m \u001b[38;5;28;01mif\u001b[39;00m backend() \u001b[38;5;241m==\u001b[39m \u001b[38;5;124m\"\u001b[39m\u001b[38;5;124mtensorflow\u001b[39m\u001b[38;5;124m\"\u001b[39m:\n\u001b[0;32m     75\u001b[0m     \u001b[38;5;28mself\u001b[39m\u001b[38;5;241m.\u001b[39m_self_setattr_tracking \u001b[38;5;241m=\u001b[39m _self_setattr_tracking\n\u001b[1;32m---> 77\u001b[0m (nodes, nodes_by_depth, operations, operations_by_depth) \u001b[38;5;241m=\u001b[39m map_graph(\n\u001b[0;32m     78\u001b[0m     \u001b[38;5;28mself\u001b[39m\u001b[38;5;241m.\u001b[39m_inputs, \u001b[38;5;28mself\u001b[39m\u001b[38;5;241m.\u001b[39m_outputs\n\u001b[0;32m     79\u001b[0m )\n\u001b[0;32m     80\u001b[0m \u001b[38;5;28mself\u001b[39m\u001b[38;5;241m.\u001b[39m_nodes \u001b[38;5;241m=\u001b[39m nodes\n\u001b[0;32m     81\u001b[0m \u001b[38;5;28mself\u001b[39m\u001b[38;5;241m.\u001b[39m_nodes_by_depth \u001b[38;5;241m=\u001b[39m nodes_by_depth\n",
      "File \u001b[1;32m~\\anaconda3\\Lib\\site-packages\\keras\\src\\ops\\function.py:331\u001b[0m, in \u001b[0;36mmap_graph\u001b[1;34m(inputs, outputs)\u001b[0m\n\u001b[0;32m    329\u001b[0m \u001b[38;5;28;01mfor\u001b[39;00m name \u001b[38;5;129;01min\u001b[39;00m all_names:\n\u001b[0;32m    330\u001b[0m     \u001b[38;5;28;01mif\u001b[39;00m all_names\u001b[38;5;241m.\u001b[39mcount(name) \u001b[38;5;241m!=\u001b[39m \u001b[38;5;241m1\u001b[39m:\n\u001b[1;32m--> 331\u001b[0m         \u001b[38;5;28;01mraise\u001b[39;00m \u001b[38;5;167;01mValueError\u001b[39;00m(\n\u001b[0;32m    332\u001b[0m             \u001b[38;5;124mf\u001b[39m\u001b[38;5;124m'\u001b[39m\u001b[38;5;124mThe name \u001b[39m\u001b[38;5;124m\"\u001b[39m\u001b[38;5;132;01m{\u001b[39;00mname\u001b[38;5;132;01m}\u001b[39;00m\u001b[38;5;124m\"\u001b[39m\u001b[38;5;124m is used \u001b[39m\u001b[38;5;132;01m{\u001b[39;00mall_names\u001b[38;5;241m.\u001b[39mcount(name)\u001b[38;5;132;01m}\u001b[39;00m\u001b[38;5;124m \u001b[39m\u001b[38;5;124m'\u001b[39m\n\u001b[0;32m    333\u001b[0m             \u001b[38;5;124m\"\u001b[39m\u001b[38;5;124mtimes in the model. All operation names should be unique.\u001b[39m\u001b[38;5;124m\"\u001b[39m\n\u001b[0;32m    334\u001b[0m         )\n\u001b[0;32m    335\u001b[0m \u001b[38;5;28;01mreturn\u001b[39;00m network_nodes, nodes_by_depth, operations, operations_by_depth\n",
      "\u001b[1;31mValueError\u001b[0m: The name \"mixed0\" is used 3 times in the model. All operation names should be unique."
     ]
    }
   ],
   "source": [
    "import tensorflow as tf\n",
    "from tensorflow.keras.applications import InceptionV3\n",
    "from tensorflow.keras.layers import Dense, GlobalAveragePooling2D, Input, concatenate\n",
    "from tensorflow.keras.models import Model\n",
    "from tensorflow.keras.optimizers import Adam\n",
    "from tensorflow.keras.callbacks import EarlyStopping\n",
    "import time\n",
    "\n",
    "# Define input shapes for multi-scale\n",
    "input_shapes = [(256, 256, 3), (128, 128, 3), (64, 64, 3)]  # Example multi-scale input\n",
    "\n",
    "# Create input layers for each scale\n",
    "inputs = [Input(shape=shape) for shape in input_shapes]\n",
    "\n",
    "# Create InceptionV3 instances for each input scale (without top classification layer)\n",
    "inception_models = [InceptionV3(weights='imagenet', include_top=False, input_tensor=inp) for inp in inputs]\n",
    "\n",
    "# Process the inceptionV3 output and add dense layers\n",
    "x_list = []\n",
    "for model in inception_models:\n",
    "    x = model.output\n",
    "    x = GlobalAveragePooling2D()(x)\n",
    "    x = Dense(1024, activation='relu')(x)\n",
    "    x_list.append(x)\n",
    "\n",
    "# Merge the feature maps from different scales\n",
    "merged = concatenate(x_list)\n",
    "\n",
    "# Final classification layer\n",
    "predictions = Dense(len(class_names), activation='softmax')(merged)\n",
    "\n",
    "# Create the multi-scale model\n",
    "model5 = Model(inputs=inputs, outputs=predictions)\n",
    "\n",
    "# Compile the model\n",
    "model5.compile(optimizer=Adam(learning_rate=0.0001), \n",
    "                          loss='sparse_categorical_crossentropy',\n",
    "                          metrics=['accuracy'])\n",
    "\n",
    "# Early stopping callback\n",
    "early_stopping = EarlyStopping(monitor='val_loss',  # Monitor validation loss\n",
    "                               patience=3,         # Stop after 3 epochs with no improvement\n",
    "                               restore_best_weights=True,  # Restore the best weights when stopping\n",
    "                               verbose=1)\n",
    "\n",
    "# Set the break duration (in seconds)\n",
    "pause_duration = 60  # 10 seconds break before each epoch\n",
    "\n",
    "# Reshape image data for multi-scale input\n",
    "resized_images_256 = tf.image.resize(images, (256, 256))\n",
    "resized_images_128 = tf.image.resize(images, (128, 128))\n",
    "resized_images_64 = tf.image.resize(images, (64, 64))\n",
    "\n",
    "# Custom training loop with a pause before each epoch\n",
    "epochs = 10  # Number of epochs\n",
    "\n",
    "for epoch in range(epochs):\n",
    "    print(f\"Epoch {epoch + 1}/{epochs}\")\n",
    "\n",
    "    # Train for 1 epoch with the EarlyStopping callback\n",
    "    model5.fit([resized_images_256, resized_images_128, resized_images_64], labels, \n",
    "                          batch_size=16, validation_split=0.2, epochs=1, callbacks=[early_stopping])\n",
    "\n",
    "    # Pause before the next epoch\n",
    "    print(f\"Pausing for {pause_duration} seconds before next epoch...\")\n",
    "    time.sleep(pause_duration)  # Pause for the specified duration\n",
    "\n",
    "print(\"Training complete!\")\n"
   ]
  }
 ],
 "metadata": {
  "colab": {
   "provenance": []
  },
  "kernelspec": {
   "display_name": "Python 3 (ipykernel)",
   "language": "python",
   "name": "python3"
  },
  "language_info": {
   "codemirror_mode": {
    "name": "ipython",
    "version": 3
   },
   "file_extension": ".py",
   "mimetype": "text/x-python",
   "name": "python",
   "nbconvert_exporter": "python",
   "pygments_lexer": "ipython3",
   "version": "3.10.9"
  }
 },
 "nbformat": 4,
 "nbformat_minor": 4
}
